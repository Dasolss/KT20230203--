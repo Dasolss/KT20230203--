{
 "cells": [
  {
   "cell_type": "code",
   "execution_count": 8,
   "metadata": {},
   "outputs": [
    {
     "name": "stdout",
     "output_type": "stream",
     "text": [
      "1\n",
      "g\n",
      "AAC\n"
     ]
    }
   ],
   "source": [
    "# 미니 실습 1\n",
    "# 리스트 원소의 최솟값 구하기 함수 min_of()를 작성하라.\n",
    "\n",
    "def min_of(a):\n",
    "    minimum = a[0]\n",
    "    \n",
    "    for i in range(1,len(a)):\n",
    "        if a[i] < minimum:\n",
    "            minimum = a[i]\n",
    "            \n",
    "    return minimum\n",
    "\n",
    "t = (4, 7, 5.6, 2, 3.14, 1)\n",
    "s = 'string'\n",
    "a = ['DTS', 'AAC', 'FLAC']\n",
    "\n",
    "print(f'{min_of(t)}')\n",
    "print(f'{min_of(s)}')\n",
    "print(f'{min_of(a)}')\n",
    "    "
   ]
  },
  {
   "cell_type": "code",
   "execution_count": 9,
   "metadata": {},
   "outputs": [
    {
     "name": "stdout",
     "output_type": "stream",
     "text": [
      "[7, 6, 9, 3, 1, 5, 2]\n"
     ]
    }
   ],
   "source": [
    "# 원소를 역순으로 정렬하기\n",
    "\n",
    "def reverse_list(a):\n",
    "    n = len(a)\n",
    "    for i in range(n//2):\n",
    "        a[i],a[n-i-1] = a[n-i-1],a[i]\n",
    "        \n",
    "a = [2, 5, 1, 3, 9, 6, 7]\n",
    "\n",
    "reverse_list(a)\n",
    "\n",
    "print(a)"
   ]
  },
  {
   "cell_type": "code",
   "execution_count": 13,
   "metadata": {},
   "outputs": [
    {
     "name": "stdout",
     "output_type": "stream",
     "text": [
      "[5, 4, 3, 2, 1]\n"
     ]
    }
   ],
   "source": [
    "def reverse_list(a):\n",
    "    n = len(a)\n",
    "    for i in range(n//2):\n",
    "        a[i],a[n-i-1] = a[n-i-1],a[i]\n",
    "        \n",
    "num = int(input('원소 수를 입력하세요.: '))\n",
    "\n",
    "x = []\n",
    "\n",
    "for i in range(num):\n",
    "    s = int(input(f'x[{i}]값을 입력하세요.: '))\n",
    "    x.append(int(s))\n",
    "\n",
    "reverse_list(x)\n",
    "\n",
    "print(x)"
   ]
  },
  {
   "cell_type": "code",
   "execution_count": 22,
   "metadata": {},
   "outputs": [
    {
     "name": "stdout",
     "output_type": "stream",
     "text": [
      "14\n",
      "검색값은 a[6]에 있습니다.\n"
     ]
    }
   ],
   "source": [
    "# while 문으로 작성한 선형 검색 알고리즘\n",
    "\n",
    "def seq_search(a, key):\n",
    "    i = 0\n",
    "    \n",
    "    count = 0\n",
    "    \n",
    "    while True:\n",
    "        count += 1\n",
    "        if i == len(a):\n",
    "            print(count)\n",
    "            \n",
    "            return -1\n",
    "        \n",
    "        count += 1\n",
    "        if a[i] == key:\n",
    "            print(count)\n",
    "            \n",
    "            return i\n",
    "        \n",
    "\n",
    "        i += 1\n",
    "        \n",
    "a = [2, 5, 1, 3, 9, 6, 7]\n",
    "\n",
    "b = int(input('검색값 : '))\n",
    "\n",
    "index = seq_search(a, b)\n",
    "\n",
    "if index == -1:\n",
    "    print('검색값을 갖는 원소가 존재하지 않습니다.')\n",
    "else:\n",
    "    print(f'검색값은 a[{index}]에 있습니다.')"
   ]
  },
  {
   "cell_type": "code",
   "execution_count": 23,
   "metadata": {},
   "outputs": [
    {
     "name": "stdout",
     "output_type": "stream",
     "text": [
      "7\n",
      "검색값은 a[6]에 있습니다.\n"
     ]
    }
   ],
   "source": [
    "# 보초법\n",
    "\n",
    "def seq_search_sentinel(b, key):\n",
    "    a = b.copy()\n",
    "    a.append(key)\n",
    "    \n",
    "    count = 0\n",
    "    \n",
    "    i=0\n",
    "    while True:\n",
    "        count += 1\n",
    "        if a[i] == key:\n",
    "            print(count)\n",
    "            \n",
    "            break\n",
    "        i += 1\n",
    "    \n",
    "    return -1 if i == len(b) else i\n",
    "\n",
    "a = [2, 5, 1, 3, 9, 6, 7]\n",
    "\n",
    "index = seq_search_sentinel(a, 7)\n",
    "\n",
    "if index == -1:\n",
    "    print('검색값을 갖는 원소가 존재하지 않습니다.')\n",
    "else:\n",
    "    print(f'검색값은 a[{index}]에 있습니다.')"
   ]
  },
  {
   "cell_type": "code",
   "execution_count": 37,
   "metadata": {},
   "outputs": [
    {
     "name": "stdout",
     "output_type": "stream",
     "text": [
      "4의 값의 위치는 a[-1]에 있습니다.\n",
      "[5, 4, 3, 2, 1]\n"
     ]
    }
   ],
   "source": [
    "# 실습 3번\n",
    "# Q) 리스트와 검색할 값을 사용자로부터 입력 받아서 검색 값이 있는 인덱스를 출력하라.\n",
    "\n",
    "def bin_search(a,key):\n",
    "    pl = 0\n",
    "    pr = len(a) - 1\n",
    "    \n",
    "    while pl<=pr:\n",
    "        pc = (pl+pr) // 2\n",
    "        \n",
    "        if key > a[pc]:\n",
    "            pl = pc + 1\n",
    "        elif key < a[pc]:\n",
    "            pr = pc - 1\n",
    "        elif key == a[pc]:\n",
    "            return pc\n",
    "    \n",
    "    return -1\n",
    "\n",
    "x = []\n",
    "\n",
    "length = int(input('리스트의 크기를 입력하세요 : '))\n",
    "\n",
    "for i in range(length):\n",
    "    number = int(input('리스트의 넣을 값을 입력하세요 : '))\n",
    "    x.append(number)\n",
    "\n",
    "find = int(input('찾을 값을 입력하세요 : '))\n",
    "\n",
    "index = bin_search(x,find)\n",
    "\n",
    "print(f'{find}의 값의 위치는 a[{index}]에 있습니다.')\n",
    "print(x)\n",
    "\n"
   ]
  },
  {
   "cell_type": "code",
   "execution_count": 39,
   "metadata": {},
   "outputs": [
    {
     "name": "stdout",
     "output_type": "stream",
     "text": [
      "[2, 3, 5, 7, 11, 13, 17, 19, 23, 29, 31, 37, 41, 43, 47, 53, 59, 61, 67, 71, 73, 79, 83, 89, 97, 101, 103, 107, 109, 113, 127, 131, 137, 139, 149, 151, 157, 163, 167, 173, 179, 181, 191, 193, 197, 199, 211, 223, 227, 229, 233, 239, 241, 251, 257, 263, 269, 271, 277, 281, 283, 293, 307, 311, 313, 317, 331, 337, 347, 349, 353, 359, 367, 373, 379, 383, 389, 397, 401, 409, 419, 421, 431, 433, 439, 443, 449, 457, 461, 463, 467, 479, 487, 491, 499, 503, 509, 521, 523, 541, 547, 557, 563, 569, 571, 577, 587, 593, 599, 601, 607, 613, 617, 619, 631, 641, 643, 647, 653, 659, 661, 673, 677, 683, 691, 701, 709, 719, 727, 733, 739, 743, 751, 757, 761, 769, 773, 787, 797, 809, 811, 821, 823, 827, 829, 839, 853, 857, 859, 863, 877, 881, 883, 887, 907, 911, 919, 929, 937, 941, 947, 953, 967, 971, 977, 983, 991, 997]\n",
      "168개\n"
     ]
    }
   ],
   "source": [
    "# 실습 1\n",
    "# Q) 2부터 1000사이의 수 중에서 소수를 리스트에 입력하고 출력하여라\n",
    "\n",
    "x = []\n",
    "\n",
    "count = 0\n",
    "\n",
    "for i in range(1,1001):\n",
    "    for j in range(2, i+1):\n",
    "        if (j == i):\n",
    "            count += 1\n",
    "            x.append(i)\n",
    "        \n",
    "        elif (i % j == 0):\n",
    "            break\n",
    "\n",
    "print(x)\n",
    "print(f'{count}개')"
   ]
  },
  {
   "cell_type": "code",
   "execution_count": null,
   "metadata": {},
   "outputs": [],
   "source": [
    "# 실습 2\n",
    "# Q) 리스트를 사용자로 부터 입력 받아서 역순으로 정렬하여 리스트의 원소를 출력하여라\n",
    "\n",
    "x = []\n",
    "\n",
    "while(True):\n",
    "    number = input(int('리스트에 넣을'))\n",
    "\n"
   ]
  },
  {
   "cell_type": "code",
   "execution_count": 5,
   "metadata": {},
   "outputs": [
    {
     "name": "stdout",
     "output_type": "stream",
     "text": [
      "[6, 7, 3, 10, 15, 80]\n",
      "최대값은 80이고, 최대값이 있는 인덱스는 x[5]이다.\n"
     ]
    }
   ],
   "source": [
    "# 실습 4\n",
    "# Q) 리스트를 사용자로부터 입력 받아서 최대값과 최대값이 있는 인덱스를 출력하라.\n",
    "\n",
    "i = 0\n",
    "x = []\n",
    "\n",
    "def bin_search(a,key):\n",
    "    pl = 0\n",
    "    pr = len(a) - 1\n",
    "    \n",
    "    while pl<=pr:\n",
    "        pc = (pl+pr) // 2\n",
    "        \n",
    "        if key > a[pc]:\n",
    "            pl = pc + 1\n",
    "        elif key < a[pc]:\n",
    "            pr = pc - 1\n",
    "        elif key == a[pc]:\n",
    "            return pc\n",
    "    \n",
    "    return -1\n",
    "\n",
    "def max_number(x):\n",
    "    maximum = 0\n",
    "    \n",
    "    for i in range(0, len(x)):\n",
    "        if x[i] > maximum:\n",
    "            maximum = x[i]\n",
    "    \n",
    "    return maximum\n",
    "    \n",
    "\n",
    "while True:\n",
    "    number = input(f'x[{i}]값을 입력하세요(END입력 시 입력 종료) : ')\n",
    "    \n",
    "    if number == 'END':\n",
    "        break\n",
    "    i += 1\n",
    "    x.append(int(number))\n",
    "    \n",
    "index = bin_search(x,max_number(x))\n",
    "\n",
    "print(x)\n",
    "print(f'최대값은 {max_number(x)}이고, 최대값이 있는 인덱스는 x[{index}]이다.')\n"
   ]
  },
  {
   "cell_type": "code",
   "execution_count": 20,
   "metadata": {},
   "outputs": [
    {
     "name": "stdout",
     "output_type": "stream",
     "text": [
      "[3, 5]\n"
     ]
    }
   ],
   "source": [
    "# 추가 실습1\n",
    "\n",
    "# Q1 Answer template\n",
    "\n",
    "def solution(lottos, win_nums):\n",
    "    answer = []\n",
    "    count = 0\n",
    "    high_count = 0\n",
    "    zero = 0\n",
    "    \n",
    "    for i in range(0,len(lottos)):\n",
    "        for j in range(0,len(lottos)):\n",
    "            if win_nums[j] == lottos[i]:\n",
    "                count += 1\n",
    "                break\n",
    "    if count == 6:\n",
    "        low_lv = 1\n",
    "    elif count == 5:\n",
    "        low_lv = 2\n",
    "    elif count == 4:\n",
    "        low_lv = 3\n",
    "    elif count == 3:\n",
    "        low_lv = 4\n",
    "    elif count == 2:\n",
    "        low_lv = 5\n",
    "    else:\n",
    "        low_lv = 6\n",
    "    \n",
    "    for i in range(0,len(lottos)):\n",
    "        if lottos[i] == 0:\n",
    "            zero += 1\n",
    "            \n",
    "    high_count = count + zero\n",
    "    \n",
    "    if high_count == 6:\n",
    "        high_lv = 1\n",
    "    elif high_count == 5:\n",
    "        high_lv = 2\n",
    "    elif high_count == 4:\n",
    "        high_lv = 3\n",
    "    elif high_count == 3:\n",
    "        high_lv = 4\n",
    "    elif high_count == 2:\n",
    "        high_lv = 5\n",
    "    else:\n",
    "        high_lv = 6\n",
    "    \n",
    "    answer = [high_lv,low_lv]\n",
    "    \n",
    "    \n",
    "    return answer\n",
    "\n",
    "lottos = [44, 1, 0, 0, 31, 25]\n",
    "win_nums = [31, 10, 45, 1, 6, 19]\n",
    "answer = solution(lottos, win_nums)\n",
    "print(answer)"
   ]
  },
  {
   "cell_type": "code",
   "execution_count": 18,
   "metadata": {},
   "outputs": [
    {
     "name": "stdout",
     "output_type": "stream",
     "text": [
      "14\n"
     ]
    }
   ],
   "source": [
    "# 추가 실습2\n",
    "\n",
    "# Q2 Answer template\n",
    "\n",
    "def solution(numbers):\n",
    "    x = 0\n",
    "    count = 45\n",
    "    \n",
    "    for i in range(0,len(numbers)):\n",
    "        x += numbers[i]\n",
    "        \n",
    "    answer = count - x\n",
    "\n",
    "    return answer\n",
    "\n",
    "numbers = [1,2,3,4,6,7,8,0]\n",
    "answer = solution(numbers)\n",
    "print(answer)"
   ]
  },
  {
   "cell_type": "code",
   "execution_count": 28,
   "metadata": {},
   "outputs": [
    {
     "name": "stdout",
     "output_type": "stream",
     "text": [
      "['yes', 'no', 'yes', 'no', 'no']\n"
     ]
    }
   ],
   "source": [
    "# Q3 answer template\n",
    "\n",
    "def solution(store, customer):\n",
    "    answer = []\n",
    "    for i in customer:\n",
    "        if i in store:\n",
    "            answer.append('yes')\n",
    "        else:\n",
    "            answer.append('no')\n",
    "        \n",
    "        \n",
    "    return answer\n",
    "\n",
    "store = [1,2,3,7,8]\n",
    "customer = [1,5,8,4,6]\n",
    "answer = solution(store, customer)\n",
    "print(answer)"
   ]
  },
  {
   "cell_type": "code",
   "execution_count": 38,
   "metadata": {},
   "outputs": [
    {
     "name": "stdout",
     "output_type": "stream",
     "text": [
      "[-1]\n"
     ]
    }
   ],
   "source": [
    "def solution(arr): \n",
    "    arr.pop(arr.index(min(arr)))\n",
    "    \n",
    "    if arr == []:\n",
    "        arr.append(-1)\n",
    "    \n",
    "    return arr\n",
    "\n",
    "arr = [4, 3, 2, 1]\n",
    "answer = solution(arr)\n",
    "print(answer)"
   ]
  },
  {
   "cell_type": "code",
   "execution_count": 47,
   "metadata": {},
   "outputs": [
    {
     "ename": "IndexError",
     "evalue": "list index out of range",
     "output_type": "error",
     "traceback": [
      "\u001b[1;31m---------------------------------------------------------------------------\u001b[0m",
      "\u001b[1;31mIndexError\u001b[0m                                Traceback (most recent call last)",
      "Cell \u001b[1;32mIn[47], line 15\u001b[0m\n\u001b[0;32m     13\u001b[0m arr \u001b[39m=\u001b[39m [\u001b[39m1\u001b[39m,\u001b[39m1\u001b[39m,\u001b[39m3\u001b[39m,\u001b[39m3\u001b[39m,\u001b[39m0\u001b[39m,\u001b[39m1\u001b[39m,\u001b[39m1\u001b[39m]\n\u001b[0;32m     14\u001b[0m \u001b[39m#arr = [4,4,4,3,3]\u001b[39;00m\n\u001b[1;32m---> 15\u001b[0m answer \u001b[39m=\u001b[39m solution(arr)\n\u001b[0;32m     16\u001b[0m \u001b[39mprint\u001b[39m(answer)\n",
      "Cell \u001b[1;32mIn[47], line 7\u001b[0m, in \u001b[0;36msolution\u001b[1;34m(arr)\u001b[0m\n\u001b[0;32m      4\u001b[0m answer \u001b[39m=\u001b[39m []\n\u001b[0;32m      6\u001b[0m \u001b[39mfor\u001b[39;00m i \u001b[39min\u001b[39;00m \u001b[39mrange\u001b[39m(\u001b[39m0\u001b[39m,\u001b[39mlen\u001b[39m(arr)):\n\u001b[1;32m----> 7\u001b[0m     \u001b[39mif\u001b[39;00m arr[i] \u001b[39m==\u001b[39m arr[i\u001b[39m-\u001b[39m\u001b[39m1\u001b[39m]:\n\u001b[0;32m      8\u001b[0m         arr\u001b[39m.\u001b[39mremove(arr[i])\n\u001b[0;32m     10\u001b[0m answer \u001b[39m=\u001b[39m arr\n",
      "\u001b[1;31mIndexError\u001b[0m: list index out of range"
     ]
    }
   ],
   "source": [
    "# Q7 Answer Template\n",
    "\n",
    "def solution(arr):\n",
    "    answer = []\n",
    "    \n",
    "    for i in range(0,len(arr)):\n",
    "        if arr[i] == arr[i-1]:\n",
    "            arr.remove(arr[i])\n",
    "            \n",
    "    answer = arr\n",
    "    return answer\n",
    "\n",
    "arr = [1,1,3,3,0,1,1]\n",
    "#arr = [4,4,4,3,3]\n",
    "answer = solution(arr)\n",
    "print(answer)"
   ]
  }
 ],
 "metadata": {
  "kernelspec": {
   "display_name": "Python 3",
   "language": "python",
   "name": "python3"
  },
  "language_info": {
   "codemirror_mode": {
    "name": "ipython",
    "version": 3
   },
   "file_extension": ".py",
   "mimetype": "text/x-python",
   "name": "python",
   "nbconvert_exporter": "python",
   "pygments_lexer": "ipython3",
   "version": "3.10.9"
  },
  "orig_nbformat": 4,
  "vscode": {
   "interpreter": {
    "hash": "afb734500600fd355917ca529030176ea0ca205570884b88f2f6f7d791fd3fbe"
   }
  }
 },
 "nbformat": 4,
 "nbformat_minor": 2
}
