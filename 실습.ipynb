{
 "cells": [
  {
   "cell_type": "code",
   "execution_count": 8,
   "metadata": {},
   "outputs": [
    {
     "name": "stdout",
     "output_type": "stream",
     "text": [
      "1\n",
      "g\n",
      "AAC\n"
     ]
    }
   ],
   "source": [
    "# 미니 실습 1\n",
    "# 리스트 원소의 최솟값 구하기 함수 min_of()를 작성하라.\n",
    "\n",
    "def min_of(a):\n",
    "    minimum = a[0]\n",
    "    \n",
    "    for i in range(1,len(a)):\n",
    "        if a[i] < minimum:\n",
    "            minimum = a[i]\n",
    "            \n",
    "    return minimum\n",
    "\n",
    "t = (4, 7, 5.6, 2, 3.14, 1)\n",
    "s = 'string'\n",
    "a = ['DTS', 'AAC', 'FLAC']\n",
    "\n",
    "print(f'{min_of(t)}')\n",
    "print(f'{min_of(s)}')\n",
    "print(f'{min_of(a)}')\n",
    "    "
   ]
  }
 ],
 "metadata": {
  "kernelspec": {
   "display_name": "Python 3",
   "language": "python",
   "name": "python3"
  },
  "language_info": {
   "codemirror_mode": {
    "name": "ipython",
    "version": 3
   },
   "file_extension": ".py",
   "mimetype": "text/x-python",
   "name": "python",
   "nbconvert_exporter": "python",
   "pygments_lexer": "ipython3",
   "version": "3.10.9"
  },
  "orig_nbformat": 4,
  "vscode": {
   "interpreter": {
    "hash": "afb734500600fd355917ca529030176ea0ca205570884b88f2f6f7d791fd3fbe"
   }
  }
 },
 "nbformat": 4,
 "nbformat_minor": 2
}
