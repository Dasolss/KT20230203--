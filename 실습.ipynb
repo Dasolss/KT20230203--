{
 "cells": [
  {
   "cell_type": "code",
   "execution_count": 8,
   "metadata": {},
   "outputs": [
    {
     "name": "stdout",
     "output_type": "stream",
     "text": [
      "1\n",
      "g\n",
      "AAC\n"
     ]
    }
   ],
   "source": [
    "# 미니 실습 1\n",
    "# 리스트 원소의 최솟값 구하기 함수 min_of()를 작성하라.\n",
    "\n",
    "def min_of(a):\n",
    "    minimum = a[0]\n",
    "    \n",
    "    for i in range(1,len(a)):\n",
    "        if a[i] < minimum:\n",
    "            minimum = a[i]\n",
    "            \n",
    "    return minimum\n",
    "\n",
    "t = (4, 7, 5.6, 2, 3.14, 1)\n",
    "s = 'string'\n",
    "a = ['DTS', 'AAC', 'FLAC']\n",
    "\n",
    "print(f'{min_of(t)}')\n",
    "print(f'{min_of(s)}')\n",
    "print(f'{min_of(a)}')\n",
    "    "
   ]
  },
  {
   "cell_type": "code",
   "execution_count": 9,
   "metadata": {},
   "outputs": [
    {
     "name": "stdout",
     "output_type": "stream",
     "text": [
      "[7, 6, 9, 3, 1, 5, 2]\n"
     ]
    }
   ],
   "source": [
    "# 원소를 역순으로 정렬하기\n",
    "\n",
    "def reverse_list(a):\n",
    "    n = len(a)\n",
    "    for i in range(n//2):\n",
    "        a[i],a[n-i-1] = a[n-i-1],a[i]\n",
    "        \n",
    "a = [2, 5, 1, 3, 9, 6, 7]\n",
    "\n",
    "reverse_list(a)\n",
    "\n",
    "print(a)"
   ]
  },
  {
   "cell_type": "code",
   "execution_count": 13,
   "metadata": {},
   "outputs": [
    {
     "name": "stdout",
     "output_type": "stream",
     "text": [
      "[5, 4, 3, 2, 1]\n"
     ]
    }
   ],
   "source": [
    "def reverse_list(a):\n",
    "    n = len(a)\n",
    "    for i in range(n//2):\n",
    "        a[i],a[n-i-1] = a[n-i-1],a[i]\n",
    "        \n",
    "num = int(input('원소 수를 입력하세요.: '))\n",
    "\n",
    "x = []\n",
    "\n",
    "for i in range(num):\n",
    "    s = int(input(f'x[{i}]값을 입력하세요.: '))\n",
    "    x.append(int(s))\n",
    "\n",
    "reverse_list(x)\n",
    "\n",
    "print(x)"
   ]
  },
  {
   "cell_type": "code",
   "execution_count": 22,
   "metadata": {},
   "outputs": [
    {
     "name": "stdout",
     "output_type": "stream",
     "text": [
      "14\n",
      "검색값은 a[6]에 있습니다.\n"
     ]
    }
   ],
   "source": [
    "# while 문으로 작성한 선형 검색 알고리즘\n",
    "\n",
    "def seq_search(a, key):\n",
    "    i = 0\n",
    "    \n",
    "    count = 0\n",
    "    \n",
    "    while True:\n",
    "        count += 1\n",
    "        if i == len(a):\n",
    "            print(count)\n",
    "            \n",
    "            return -1\n",
    "        \n",
    "        count += 1\n",
    "        if a[i] == key:\n",
    "            print(count)\n",
    "            \n",
    "            return i\n",
    "        \n",
    "\n",
    "        i += 1\n",
    "        \n",
    "a = [2, 5, 1, 3, 9, 6, 7]\n",
    "\n",
    "b = int(input('검색값 : '))\n",
    "\n",
    "index = seq_search(a, b)\n",
    "\n",
    "if index == -1:\n",
    "    print('검색값을 갖는 원소가 존재하지 않습니다.')\n",
    "else:\n",
    "    print(f'검색값은 a[{index}]에 있습니다.')"
   ]
  },
  {
   "cell_type": "code",
   "execution_count": 23,
   "metadata": {},
   "outputs": [
    {
     "name": "stdout",
     "output_type": "stream",
     "text": [
      "7\n",
      "검색값은 a[6]에 있습니다.\n"
     ]
    }
   ],
   "source": [
    "# 보초법\n",
    "\n",
    "def seq_search_sentinel(b, key):\n",
    "    a = b.copy()\n",
    "    a.append(key)\n",
    "    \n",
    "    count = 0\n",
    "    \n",
    "    i=0\n",
    "    while True:\n",
    "        count += 1\n",
    "        if a[i] == key:\n",
    "            print(count)\n",
    "            \n",
    "            break\n",
    "        i += 1\n",
    "    \n",
    "    return -1 if i == len(b) else i\n",
    "\n",
    "a = [2, 5, 1, 3, 9, 6, 7]\n",
    "\n",
    "index = seq_search_sentinel(a, 7)\n",
    "\n",
    "if index == -1:\n",
    "    print('검색값을 갖는 원소가 존재하지 않습니다.')\n",
    "else:\n",
    "    print(f'검색값은 a[{index}]에 있습니다.')"
   ]
  },
  {
   "cell_type": "code",
   "execution_count": 37,
   "metadata": {},
   "outputs": [
    {
     "name": "stdout",
     "output_type": "stream",
     "text": [
      "4의 값의 위치는 a[-1]에 있습니다.\n",
      "[5, 4, 3, 2, 1]\n"
     ]
    }
   ],
   "source": [
    "# 실습 3번\n",
    "# Q) 리스트와 검색할 값을 사용자로부터 입력 받아서 검색 값이 있는 인덱스를 출력하라.\n",
    "\n",
    "def bin_search(a,key):\n",
    "    pl = 0\n",
    "    pr = len(a) - 1\n",
    "    \n",
    "    while pl<=pr:\n",
    "        pc = (pl+pr) // 2\n",
    "        \n",
    "        if key > a[pc]:\n",
    "            pl = pc + 1\n",
    "        elif key < a[pc]:\n",
    "            pr = pc - 1\n",
    "        elif key == a[pc]:\n",
    "            return pc\n",
    "    \n",
    "    return -1\n",
    "\n",
    "x = []\n",
    "\n",
    "length = int(input('리스트의 크기를 입력하세요 : '))\n",
    "\n",
    "for i in range(length):\n",
    "    number = int(input('리스트의 넣을 값을 입력하세요 : '))\n",
    "    x.append(number)\n",
    "\n",
    "find = int(input('찾을 값을 입력하세요 : '))\n",
    "\n",
    "index = bin_search(x,find)\n",
    "\n",
    "print(f'{find}의 값의 위치는 a[{index}]에 있습니다.')\n",
    "print(x)\n",
    "\n"
   ]
  },
  {
   "cell_type": "code",
   "execution_count": 39,
   "metadata": {},
   "outputs": [
    {
     "name": "stdout",
     "output_type": "stream",
     "text": [
      "[2, 3, 5, 7, 11, 13, 17, 19, 23, 29, 31, 37, 41, 43, 47, 53, 59, 61, 67, 71, 73, 79, 83, 89, 97, 101, 103, 107, 109, 113, 127, 131, 137, 139, 149, 151, 157, 163, 167, 173, 179, 181, 191, 193, 197, 199, 211, 223, 227, 229, 233, 239, 241, 251, 257, 263, 269, 271, 277, 281, 283, 293, 307, 311, 313, 317, 331, 337, 347, 349, 353, 359, 367, 373, 379, 383, 389, 397, 401, 409, 419, 421, 431, 433, 439, 443, 449, 457, 461, 463, 467, 479, 487, 491, 499, 503, 509, 521, 523, 541, 547, 557, 563, 569, 571, 577, 587, 593, 599, 601, 607, 613, 617, 619, 631, 641, 643, 647, 653, 659, 661, 673, 677, 683, 691, 701, 709, 719, 727, 733, 739, 743, 751, 757, 761, 769, 773, 787, 797, 809, 811, 821, 823, 827, 829, 839, 853, 857, 859, 863, 877, 881, 883, 887, 907, 911, 919, 929, 937, 941, 947, 953, 967, 971, 977, 983, 991, 997]\n",
      "168개\n"
     ]
    }
   ],
   "source": [
    "# 실습 1\n",
    "# Q) 2부터 1000사이의 수 중에서 소수를 리스트에 입력하고 출력하여라\n",
    "\n",
    "x = []\n",
    "\n",
    "count = 0\n",
    "\n",
    "for i in range(1,1001):\n",
    "    for j in range(2, i+1):\n",
    "        if (j == i):\n",
    "            count += 1\n",
    "            x.append(i)\n",
    "        \n",
    "        elif (i % j == 0):\n",
    "            break\n",
    "\n",
    "print(x)\n",
    "print(f'{count}개')"
   ]
  },
  {
   "cell_type": "code",
   "execution_count": null,
   "metadata": {},
   "outputs": [],
   "source": [
    "# 실습 2\n",
    "# Q) 리스트를 사용자로 부터 입력 받아서 역순으로 정렬하여 리스트의 원소를 출력하여라\n"
   ]
  },
  {
   "cell_type": "code",
   "execution_count": null,
   "metadata": {},
   "outputs": [],
   "source": []
  }
 ],
 "metadata": {
  "kernelspec": {
   "display_name": "Python 3",
   "language": "python",
   "name": "python3"
  },
  "language_info": {
   "codemirror_mode": {
    "name": "ipython",
    "version": 3
   },
   "file_extension": ".py",
   "mimetype": "text/x-python",
   "name": "python",
   "nbconvert_exporter": "python",
   "pygments_lexer": "ipython3",
   "version": "3.10.9"
  },
  "orig_nbformat": 4,
  "vscode": {
   "interpreter": {
    "hash": "afb734500600fd355917ca529030176ea0ca205570884b88f2f6f7d791fd3fbe"
   }
  }
 },
 "nbformat": 4,
 "nbformat_minor": 2
}
