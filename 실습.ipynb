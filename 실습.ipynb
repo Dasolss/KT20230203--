{
 "cells": [
  {
   "cell_type": "code",
   "execution_count": 8,
   "metadata": {},
   "outputs": [
    {
     "name": "stdout",
     "output_type": "stream",
     "text": [
      "1\n",
      "g\n",
      "AAC\n"
     ]
    }
   ],
   "source": [
    "# 미니 실습 1\n",
    "# 리스트 원소의 최솟값 구하기 함수 min_of()를 작성하라.\n",
    "\n",
    "def min_of(a):\n",
    "    minimum = a[0]\n",
    "    \n",
    "    for i in range(1,len(a)):\n",
    "        if a[i] < minimum:\n",
    "            minimum = a[i]\n",
    "            \n",
    "    return minimum\n",
    "\n",
    "t = (4, 7, 5.6, 2, 3.14, 1)\n",
    "s = 'string'\n",
    "a = ['DTS', 'AAC', 'FLAC']\n",
    "\n",
    "print(f'{min_of(t)}')\n",
    "print(f'{min_of(s)}')\n",
    "print(f'{min_of(a)}')\n",
    "    "
   ]
  },
  {
   "cell_type": "code",
   "execution_count": 9,
   "metadata": {},
   "outputs": [
    {
     "name": "stdout",
     "output_type": "stream",
     "text": [
      "[7, 6, 9, 3, 1, 5, 2]\n"
     ]
    }
   ],
   "source": [
    "# 원소를 역순으로 정렬하기\n",
    "\n",
    "def reverse_list(a):\n",
    "    n = len(a)\n",
    "    for i in range(n//2):\n",
    "        a[i],a[n-i-1] = a[n-i-1],a[i]\n",
    "        \n",
    "a = [2, 5, 1, 3, 9, 6, 7]\n",
    "\n",
    "reverse_list(a)\n",
    "\n",
    "print(a)"
   ]
  },
  {
   "cell_type": "code",
   "execution_count": 13,
   "metadata": {},
   "outputs": [
    {
     "name": "stdout",
     "output_type": "stream",
     "text": [
      "[5, 4, 3, 2, 1]\n"
     ]
    }
   ],
   "source": [
    "def reverse_list(a):\n",
    "    n = len(a)\n",
    "    for i in range(n//2):\n",
    "        a[i],a[n-i-1] = a[n-i-1],a[i]\n",
    "        \n",
    "num = int(input('원소 수를 입력하세요.: '))\n",
    "\n",
    "x = []\n",
    "\n",
    "for i in range(num):\n",
    "    s = int(input(f'x[{i}]값을 입력하세요.: '))\n",
    "    x.append(int(s))\n",
    "\n",
    "reverse_list(x)\n",
    "\n",
    "print(x)"
   ]
  }
 ],
 "metadata": {
  "kernelspec": {
   "display_name": "Python 3",
   "language": "python",
   "name": "python3"
  },
  "language_info": {
   "codemirror_mode": {
    "name": "ipython",
    "version": 3
   },
   "file_extension": ".py",
   "mimetype": "text/x-python",
   "name": "python",
   "nbconvert_exporter": "python",
   "pygments_lexer": "ipython3",
   "version": "3.10.9"
  },
  "orig_nbformat": 4,
  "vscode": {
   "interpreter": {
    "hash": "afb734500600fd355917ca529030176ea0ca205570884b88f2f6f7d791fd3fbe"
   }
  }
 },
 "nbformat": 4,
 "nbformat_minor": 2
}
